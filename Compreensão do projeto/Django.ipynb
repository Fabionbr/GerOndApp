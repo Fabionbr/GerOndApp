{
  "metadata": {
    "kernelspec": {
      "name": "python",
      "display_name": "Python (Pyodide)",
      "language": "python"
    },
    "language_info": {
      "codemirror_mode": {
        "name": "python",
        "version": 3
      },
      "file_extension": ".py",
      "mimetype": "text/x-python",
      "name": "python",
      "nbconvert_exporter": "python",
      "pygments_lexer": "ipython3",
      "version": "3.8"
    }
  },
  "nbformat_minor": 5,
  "nbformat": 4,
  "cells": [
    {
      "id": "f4b9d99e-6a5d-45c1-8b2f-61e56cc716cf",
      "cell_type": "markdown",
      "source": "### DJango",
      "metadata": {}
    },
    {
      "id": "d50d8762-3608-4dd5-9149-abc5c7d68fdc",
      "cell_type": "markdown",
      "source": "Framework de alto nível escrito em Python para desenvolvimento web. O django é conhecido por sua facilidade em criar aplicações robustas, seguras e escaláveis.",
      "metadata": {}
    },
    {
      "id": "82a79966-0251-4977-9b63-77a505d74056",
      "cell_type": "markdown",
      "source": "**Principais características do Django:**",
      "metadata": {}
    },
    {
      "id": "53f297b6-117b-4493-9825-c6c20013f1f3",
      "cell_type": "markdown",
      "source": "- **Alto Nível**",
      "metadata": {}
    },
    {
      "id": "5744bcf6-9d33-4e25-9d8c-6fb5bb867cc0",
      "cell_type": "markdown",
      "source": "    O Django abstrai a maior parte da complexidade do desenvolvimento web, tornando mais simples a construção de aplicações web.",
      "metadata": {}
    },
    {
      "id": "c40b9299-f3ad-41dd-80b8-fc99fa04f946",
      "cell_type": "markdown",
      "source": "- **Arquitetura MTV (Model, View, Template)**",
      "metadata": {}
    },
    {
      "id": "816a8618-f2fa-45d4-b238-aac800bf760e",
      "cell_type": "markdown",
      "source": "       Model: Representa a estrutura de dados, ou seja, as tabelas do banco de dados. É aqui que você define os campos e relacionamentos dos   dados.\n        \n       Template: Responsável pela camada de apresentação. São os arquivos HTML que mostram o conteúdo ao usuário.\n        \n       View: Processa as requisições e retorna as respostas. Conecta o Model ao Template, garantindo a lógica do aplicativo",
      "metadata": {}
    },
    {
      "id": "b50c7291-f0c0-415a-91a1-ddf56e6391c6",
      "cell_type": "markdown",
      "source": "- **Administração automática**",
      "metadata": {}
    },
    {
      "id": "58419feb-5d75-46d3-b324-0ce5768f5d2c",
      "cell_type": "markdown",
      "source": "    O Django gera automaticamente uma interface administrativa para gerenciar os dados do sistema, com base nos modelos definidos.",
      "metadata": {}
    },
    {
      "id": "0ffcca1f-7cb8-488e-94c0-4352876e817f",
      "cell_type": "markdown",
      "source": "- **ORM (Object-Relational Mapping)**",
      "metadata": {}
    },
    {
      "id": "b3d437dc-2b6c-49a6-ab10-1da4869a1679",
      "cell_type": "markdown",
      "source": "    O Django possui um mapeador objeto-relacional integrado que permite interagir com o banco de dados usando objetos Python em vez de escrever SQL diretamente.",
      "metadata": {}
    },
    {
      "id": "a855e3a1-843e-4a2d-a6dc-8365300f47fb",
      "cell_type": "markdown",
      "source": "- **URLs Descritivas**",
      "metadata": {}
    },
    {
      "id": "e58c9ce3-41f6-4eee-acdd-ba473a13e626",
      "cell_type": "markdown",
      "source": "    O sistema de roteamento do Django permite configurar URLs limpas e fáceis de entender, vinculando-as diretamente às views.\n\n",
      "metadata": {}
    },
    {
      "id": "2baa66ce-f8aa-4b3b-858e-0e4107c82d88",
      "cell_type": "markdown",
      "source": "- **Alta Segurança**",
      "metadata": {}
    },
    {
      "id": "7e78c1d3-35df-45d7-809d-329bd3e127ad",
      "cell_type": "markdown",
      "source": "## O Django possui recursos integrados para prevenir vulnerabilidades comuns, como:\n    \n        Injeção SQL\n        Cross-Site Scripting (XSS)\n        Cross-Site Request Forgery (CSRF)\n        Clickjacking\n        Gerenciamento de senhas seguro",
      "metadata": {}
    },
    {
      "id": "505003e8-8e56-4d40-b6c4-eb8cd02268af",
      "cell_type": "markdown",
      "source": "- **Escalabilidade**",
      "metadata": {}
    },
    {
      "id": "1541f36f-425a-48f4-8567-b426e26c4035",
      "cell_type": "markdown",
      "source": "    O Django foi projetado para lidar com grandes volumes de tráfego e escalabilidade, sendo utilizado por empresas como Instagram, Spotify e Pinterest.",
      "metadata": {}
    },
    {
      "id": "2d1aeb5c-b5c4-48a6-b1ac-77363d6a15e9",
      "cell_type": "code",
      "source": "import prototipo as pt\n\npt.hello()",
      "metadata": {
        "trusted": true
      },
      "outputs": [
        {
          "name": "stdout",
          "output_type": "stream",
          "text": "Hello, world!\n"
        }
      ],
      "execution_count": 6
    }
  ]
}